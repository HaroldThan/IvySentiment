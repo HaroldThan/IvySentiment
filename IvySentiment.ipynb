{
  "nbformat": 4,
  "nbformat_minor": 0,
  "metadata": {
    "colab": {
      "name": "IvySentiment.ipynb",
      "provenance": [],
      "collapsed_sections": [],
      "authorship_tag": "ABX9TyNKM4V7spEsoa/7QhO8aFiu",
      "include_colab_link": true
    },
    "kernelspec": {
      "name": "python3",
      "display_name": "Python 3"
    },
    "language_info": {
      "name": "python"
    }
  },
  "cells": [
    {
      "cell_type": "markdown",
      "metadata": {
        "id": "view-in-github",
        "colab_type": "text"
      },
      "source": [
        "<a href=\"https://colab.research.google.com/github/HaroldThan/IvySentiment/blob/main/IvySentiment.ipynb\" target=\"_parent\"><img src=\"https://colab.research.google.com/assets/colab-badge.svg\" alt=\"Open In Colab\"/></a>"
      ]
    },
    {
      "cell_type": "code",
      "source": [
        "!pip install panda"
      ],
      "metadata": {
        "colab": {
          "base_uri": "https://localhost:8080/"
        },
        "id": "Ll69Sh9egDOs",
        "outputId": "0b63e4bb-e7a2-4d8a-e913-bf322099fd84"
      },
      "execution_count": null,
      "outputs": [
        {
          "output_type": "stream",
          "name": "stdout",
          "text": [
            "Looking in indexes: https://pypi.org/simple, https://us-python.pkg.dev/colab-wheels/public/simple/\n",
            "Requirement already satisfied: panda in /usr/local/lib/python3.7/dist-packages (0.3.1)\n",
            "Requirement already satisfied: setuptools in /usr/local/lib/python3.7/dist-packages (from panda) (57.4.0)\n",
            "Requirement already satisfied: requests in /usr/local/lib/python3.7/dist-packages (from panda) (2.23.0)\n",
            "Requirement already satisfied: certifi>=2017.4.17 in /usr/local/lib/python3.7/dist-packages (from requests->panda) (2022.5.18.1)\n",
            "Requirement already satisfied: idna<3,>=2.5 in /usr/local/lib/python3.7/dist-packages (from requests->panda) (2.10)\n",
            "Requirement already satisfied: chardet<4,>=3.0.2 in /usr/local/lib/python3.7/dist-packages (from requests->panda) (3.0.4)\n",
            "Requirement already satisfied: urllib3!=1.25.0,!=1.25.1,<1.26,>=1.21.1 in /usr/local/lib/python3.7/dist-packages (from requests->panda) (1.24.3)\n"
          ]
        }
      ]
    },
    {
      "cell_type": "code",
      "execution_count": null,
      "metadata": {
        "id": "TUy0LkYwfUTg"
      },
      "outputs": [],
      "source": [
        "import tweepy\n",
        "import pandas as pd"
      ]
    },
    {
      "cell_type": "code",
      "source": [
        "# Consumer keys and access tokens, used for OAuth\n",
        "consumer_key = \"zPfJ1DojC5PrEH2wvA9LRPHv1\"\n",
        "consumer_secret  =\"5oXlW2Y4qxlWvYcGezaXFaRbPoWk22Zjlcpx9O9jECDcT803yF\"\n",
        "access_token = \"1433558229242441738-3fbdv0jtkSmzlfyphfO1ISg8geRPu2\"\n",
        "access_token_secret = \"TDRkxIvp0QGmgAsyYBpO8EY6xQqI8WE48nxPUT9hndl5U\"\n",
        "bearer_token = \"AAAAAAAAAAAAAAAAAAAAADiRdAEAAAAAHeh%2FuRorkP8d6pR0spB9pTCN1mw%3DS7IPHm4I3zVmSh4m8cZaNr2TH1zYkYnbhVwfRSVlLamnd8wON8\""
      ],
      "metadata": {
        "id": "WKBkvOkTf35l"
      },
      "execution_count": null,
      "outputs": []
    },
    {
      "cell_type": "code",
      "source": [
        "# import tweepy\n",
        "# # OAuth process, using the keys and tokens\n",
        "# auth = tweepy.OAuthHandler(consumer_key, consumer_secret)\n",
        "# auth.set_access_token(access_token, access_token_secret)\n",
        " \n",
        "\n",
        "import tweepy\n",
        "\n",
        "auth = tweepy.OAuthHandler(consumer_key,consumer_secret)\n",
        "api = tweepy.API(auth)\n",
        "# Creation of the actual interface, using authentication\n",
        "api = tweepy.API(auth)"
      ],
      "metadata": {
        "id": "qOYGxwOyg6H5"
      },
      "execution_count": null,
      "outputs": []
    },
    {
      "cell_type": "code",
      "source": [
        "cursor = tweepy.Cursor(api.search, q=\"dartmouth\", tweet_mode = \"extended\").items(1)\n"
      ],
      "metadata": {
        "id": "2Qg3BEUnjN92"
      },
      "execution_count": null,
      "outputs": []
    },
    {
      "cell_type": "code",
      "source": [
        "num_tweets= 200\n",
        "id = []\n",
        "tweets = []\n",
        "likes = []\n",
        "time = []\n",
        "\n",
        "for i in tweepy.Cursor(api.user_timeline, id = \"dartmouth\", tweet_mode='extended').items(num_tweets):\n",
        "  id.append(i.id)\n",
        "  tweets.append(i.full_text)\n",
        "  likes.append(i.favorite_count)\n",
        "  time.append(i.created_at)"
      ],
      "metadata": {
        "id": "UQ1OghIfjhMt"
      },
      "execution_count": null,
      "outputs": []
    },
    {
      "cell_type": "code",
      "source": [
        "df = pd.DataFrame({'id':id, 'tweets': tweets, 'likes':likes, 'time':time})"
      ],
      "metadata": {
        "id": "U574gTKmqcd8"
      },
      "execution_count": null,
      "outputs": []
    },
    {
      "cell_type": "code",
      "source": [
        "df"
      ],
      "metadata": {
        "colab": {
          "base_uri": "https://localhost:8080/",
          "height": 1248
        },
        "id": "mgj5vZA-s4tN",
        "outputId": "a48d7c30-5996-4519-f91c-327828e54c89"
      },
      "execution_count": null,
      "outputs": [
        {
          "output_type": "execute_result",
          "data": {
            "text/plain": [
              "                      id                                             tweets  \\\n",
              "0    1530982557201866752  From the Revolutionary War, the Civil War, Wor...   \n",
              "1    1530543012425646080  Give a rouse for the #Geisel22s!🎉💚 🎓 https://t...   \n",
              "2    1530527347811749889  RT @GeiselMed: Class Day 2022 begins in one ho...   \n",
              "3    1530521984219721731  Help celebrate the @GeiselMed Class of 2022 by...   \n",
              "4    1530521352242876419  Tune in today at 9 a.m. to celebrate the @Geis...   \n",
              "..                   ...                                                ...   \n",
              "195  1493638752736092171  MD/PhD candidate Abigail Dutton is conducting ...   \n",
              "196  1493630183374573568  \"Expanded Present,\" by Professor Soo Sunny Par...   \n",
              "197  1493311184203825165  Students in Allen House spent last Friday even...   \n",
              "198  1493310933178802176  RT @dartmouthsports: Tommy Ford ’12, Rosie Bre...   \n",
              "199  1493310560376655884  RT @dartmouthalumni: From first year orientati...   \n",
              "\n",
              "     likes                time  \n",
              "0        9 2022-05-29 18:41:00  \n",
              "1       24 2022-05-28 13:34:24  \n",
              "2        0 2022-05-28 12:32:10  \n",
              "3        4 2022-05-28 12:10:51  \n",
              "4        4 2022-05-28 12:08:20  \n",
              "..     ...                 ...  \n",
              "195      4 2022-02-15 17:30:03  \n",
              "196     39 2022-02-15 16:56:00  \n",
              "197      4 2022-02-14 19:48:25  \n",
              "198      0 2022-02-14 19:47:25  \n",
              "199      0 2022-02-14 19:45:56  \n",
              "\n",
              "[200 rows x 4 columns]"
            ],
            "text/html": [
              "\n",
              "  <div id=\"df-6ef6cdcf-9d6b-4b74-873d-a4394da643fe\">\n",
              "    <div class=\"colab-df-container\">\n",
              "      <div>\n",
              "<style scoped>\n",
              "    .dataframe tbody tr th:only-of-type {\n",
              "        vertical-align: middle;\n",
              "    }\n",
              "\n",
              "    .dataframe tbody tr th {\n",
              "        vertical-align: top;\n",
              "    }\n",
              "\n",
              "    .dataframe thead th {\n",
              "        text-align: right;\n",
              "    }\n",
              "</style>\n",
              "<table border=\"1\" class=\"dataframe\">\n",
              "  <thead>\n",
              "    <tr style=\"text-align: right;\">\n",
              "      <th></th>\n",
              "      <th>id</th>\n",
              "      <th>tweets</th>\n",
              "      <th>likes</th>\n",
              "      <th>time</th>\n",
              "    </tr>\n",
              "  </thead>\n",
              "  <tbody>\n",
              "    <tr>\n",
              "      <th>0</th>\n",
              "      <td>1530982557201866752</td>\n",
              "      <td>From the Revolutionary War, the Civil War, Wor...</td>\n",
              "      <td>9</td>\n",
              "      <td>2022-05-29 18:41:00</td>\n",
              "    </tr>\n",
              "    <tr>\n",
              "      <th>1</th>\n",
              "      <td>1530543012425646080</td>\n",
              "      <td>Give a rouse for the #Geisel22s!🎉💚 🎓 https://t...</td>\n",
              "      <td>24</td>\n",
              "      <td>2022-05-28 13:34:24</td>\n",
              "    </tr>\n",
              "    <tr>\n",
              "      <th>2</th>\n",
              "      <td>1530527347811749889</td>\n",
              "      <td>RT @GeiselMed: Class Day 2022 begins in one ho...</td>\n",
              "      <td>0</td>\n",
              "      <td>2022-05-28 12:32:10</td>\n",
              "    </tr>\n",
              "    <tr>\n",
              "      <th>3</th>\n",
              "      <td>1530521984219721731</td>\n",
              "      <td>Help celebrate the @GeiselMed Class of 2022 by...</td>\n",
              "      <td>4</td>\n",
              "      <td>2022-05-28 12:10:51</td>\n",
              "    </tr>\n",
              "    <tr>\n",
              "      <th>4</th>\n",
              "      <td>1530521352242876419</td>\n",
              "      <td>Tune in today at 9 a.m. to celebrate the @Geis...</td>\n",
              "      <td>4</td>\n",
              "      <td>2022-05-28 12:08:20</td>\n",
              "    </tr>\n",
              "    <tr>\n",
              "      <th>...</th>\n",
              "      <td>...</td>\n",
              "      <td>...</td>\n",
              "      <td>...</td>\n",
              "      <td>...</td>\n",
              "    </tr>\n",
              "    <tr>\n",
              "      <th>195</th>\n",
              "      <td>1493638752736092171</td>\n",
              "      <td>MD/PhD candidate Abigail Dutton is conducting ...</td>\n",
              "      <td>4</td>\n",
              "      <td>2022-02-15 17:30:03</td>\n",
              "    </tr>\n",
              "    <tr>\n",
              "      <th>196</th>\n",
              "      <td>1493630183374573568</td>\n",
              "      <td>\"Expanded Present,\" by Professor Soo Sunny Par...</td>\n",
              "      <td>39</td>\n",
              "      <td>2022-02-15 16:56:00</td>\n",
              "    </tr>\n",
              "    <tr>\n",
              "      <th>197</th>\n",
              "      <td>1493311184203825165</td>\n",
              "      <td>Students in Allen House spent last Friday even...</td>\n",
              "      <td>4</td>\n",
              "      <td>2022-02-14 19:48:25</td>\n",
              "    </tr>\n",
              "    <tr>\n",
              "      <th>198</th>\n",
              "      <td>1493310933178802176</td>\n",
              "      <td>RT @dartmouthsports: Tommy Ford ’12, Rosie Bre...</td>\n",
              "      <td>0</td>\n",
              "      <td>2022-02-14 19:47:25</td>\n",
              "    </tr>\n",
              "    <tr>\n",
              "      <th>199</th>\n",
              "      <td>1493310560376655884</td>\n",
              "      <td>RT @dartmouthalumni: From first year orientati...</td>\n",
              "      <td>0</td>\n",
              "      <td>2022-02-14 19:45:56</td>\n",
              "    </tr>\n",
              "  </tbody>\n",
              "</table>\n",
              "<p>200 rows × 4 columns</p>\n",
              "</div>\n",
              "      <button class=\"colab-df-convert\" onclick=\"convertToInteractive('df-6ef6cdcf-9d6b-4b74-873d-a4394da643fe')\"\n",
              "              title=\"Convert this dataframe to an interactive table.\"\n",
              "              style=\"display:none;\">\n",
              "        \n",
              "  <svg xmlns=\"http://www.w3.org/2000/svg\" height=\"24px\"viewBox=\"0 0 24 24\"\n",
              "       width=\"24px\">\n",
              "    <path d=\"M0 0h24v24H0V0z\" fill=\"none\"/>\n",
              "    <path d=\"M18.56 5.44l.94 2.06.94-2.06 2.06-.94-2.06-.94-.94-2.06-.94 2.06-2.06.94zm-11 1L8.5 8.5l.94-2.06 2.06-.94-2.06-.94L8.5 2.5l-.94 2.06-2.06.94zm10 10l.94 2.06.94-2.06 2.06-.94-2.06-.94-.94-2.06-.94 2.06-2.06.94z\"/><path d=\"M17.41 7.96l-1.37-1.37c-.4-.4-.92-.59-1.43-.59-.52 0-1.04.2-1.43.59L10.3 9.45l-7.72 7.72c-.78.78-.78 2.05 0 2.83L4 21.41c.39.39.9.59 1.41.59.51 0 1.02-.2 1.41-.59l7.78-7.78 2.81-2.81c.8-.78.8-2.07 0-2.86zM5.41 20L4 18.59l7.72-7.72 1.47 1.35L5.41 20z\"/>\n",
              "  </svg>\n",
              "      </button>\n",
              "      \n",
              "  <style>\n",
              "    .colab-df-container {\n",
              "      display:flex;\n",
              "      flex-wrap:wrap;\n",
              "      gap: 12px;\n",
              "    }\n",
              "\n",
              "    .colab-df-convert {\n",
              "      background-color: #E8F0FE;\n",
              "      border: none;\n",
              "      border-radius: 50%;\n",
              "      cursor: pointer;\n",
              "      display: none;\n",
              "      fill: #1967D2;\n",
              "      height: 32px;\n",
              "      padding: 0 0 0 0;\n",
              "      width: 32px;\n",
              "    }\n",
              "\n",
              "    .colab-df-convert:hover {\n",
              "      background-color: #E2EBFA;\n",
              "      box-shadow: 0px 1px 2px rgba(60, 64, 67, 0.3), 0px 1px 3px 1px rgba(60, 64, 67, 0.15);\n",
              "      fill: #174EA6;\n",
              "    }\n",
              "\n",
              "    [theme=dark] .colab-df-convert {\n",
              "      background-color: #3B4455;\n",
              "      fill: #D2E3FC;\n",
              "    }\n",
              "\n",
              "    [theme=dark] .colab-df-convert:hover {\n",
              "      background-color: #434B5C;\n",
              "      box-shadow: 0px 1px 3px 1px rgba(0, 0, 0, 0.15);\n",
              "      filter: drop-shadow(0px 1px 2px rgba(0, 0, 0, 0.3));\n",
              "      fill: #FFFFFF;\n",
              "    }\n",
              "  </style>\n",
              "\n",
              "      <script>\n",
              "        const buttonEl =\n",
              "          document.querySelector('#df-6ef6cdcf-9d6b-4b74-873d-a4394da643fe button.colab-df-convert');\n",
              "        buttonEl.style.display =\n",
              "          google.colab.kernel.accessAllowed ? 'block' : 'none';\n",
              "\n",
              "        async function convertToInteractive(key) {\n",
              "          const element = document.querySelector('#df-6ef6cdcf-9d6b-4b74-873d-a4394da643fe');\n",
              "          const dataTable =\n",
              "            await google.colab.kernel.invokeFunction('convertToInteractive',\n",
              "                                                     [key], {});\n",
              "          if (!dataTable) return;\n",
              "\n",
              "          const docLinkHtml = 'Like what you see? Visit the ' +\n",
              "            '<a target=\"_blank\" href=https://colab.research.google.com/notebooks/data_table.ipynb>data table notebook</a>'\n",
              "            + ' to learn more about interactive tables.';\n",
              "          element.innerHTML = '';\n",
              "          dataTable['output_type'] = 'display_data';\n",
              "          await google.colab.output.renderOutput(dataTable, element);\n",
              "          const docLink = document.createElement('div');\n",
              "          docLink.innerHTML = docLinkHtml;\n",
              "          element.appendChild(docLink);\n",
              "        }\n",
              "      </script>\n",
              "    </div>\n",
              "  </div>\n",
              "  "
            ]
          },
          "metadata": {},
          "execution_count": 62
        }
      ]
    },
    {
      "cell_type": "code",
      "source": [
        ""
      ],
      "metadata": {
        "id": "Mjmp0-HmuSpk"
      },
      "execution_count": null,
      "outputs": []
    }
  ]
}