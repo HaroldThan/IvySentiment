{
  "nbformat": 4,
  "nbformat_minor": 0,
  "metadata": {
    "colab": {
      "name": "Reddit scraper",
      "provenance": []
    },
    "kernelspec": {
      "name": "python3",
      "display_name": "Python 3"
    },
    "language_info": {
      "name": "python"
    }
  },
  "cells": [
    {
      "cell_type": "code",
      "execution_count": 5,
      "metadata": {
        "colab": {
          "base_uri": "https://localhost:8080/"
        },
        "id": "SAFfDMRQ2VbM",
        "outputId": "f335f593-d10c-4c6c-a7c4-1d00dd2cdd3e"
      },
      "outputs": [
        {
          "output_type": "stream",
          "name": "stdout",
          "text": [
            "Looking in indexes: https://pypi.org/simple, https://us-python.pkg.dev/colab-wheels/public/simple/\n",
            "Requirement already satisfied: praw in /usr/local/lib/python3.7/dist-packages (7.6.0)\n",
            "Requirement already satisfied: websocket-client>=0.54.0 in /usr/local/lib/python3.7/dist-packages (from praw) (1.3.2)\n",
            "Requirement already satisfied: update-checker>=0.18 in /usr/local/lib/python3.7/dist-packages (from praw) (0.18.0)\n",
            "Requirement already satisfied: prawcore<3,>=2.1 in /usr/local/lib/python3.7/dist-packages (from praw) (2.3.0)\n",
            "Requirement already satisfied: requests<3.0,>=2.6.0 in /usr/local/lib/python3.7/dist-packages (from prawcore<3,>=2.1->praw) (2.23.0)\n",
            "Requirement already satisfied: certifi>=2017.4.17 in /usr/local/lib/python3.7/dist-packages (from requests<3.0,>=2.6.0->prawcore<3,>=2.1->praw) (2022.5.18.1)\n",
            "Requirement already satisfied: urllib3!=1.25.0,!=1.25.1,<1.26,>=1.21.1 in /usr/local/lib/python3.7/dist-packages (from requests<3.0,>=2.6.0->prawcore<3,>=2.1->praw) (1.24.3)\n",
            "Requirement already satisfied: chardet<4,>=3.0.2 in /usr/local/lib/python3.7/dist-packages (from requests<3.0,>=2.6.0->prawcore<3,>=2.1->praw) (3.0.4)\n",
            "Requirement already satisfied: idna<3,>=2.5 in /usr/local/lib/python3.7/dist-packages (from requests<3.0,>=2.6.0->prawcore<3,>=2.1->praw) (2.10)\n"
          ]
        }
      ],
      "source": [
        "# reference: https://medium.com/analytics-vidhya/scraping-reddit-using-python-reddit-api-wrapper-praw-5c275e34a8f4\n",
        "!pip install -U praw\n",
        "# !pip install asyncpraw"
      ]
    },
    {
      "cell_type": "code",
      "source": [
        "import pandas as pd\n",
        "import praw\n",
        "# import asyncpraw\n",
        "import prawcore\n",
        "from praw.models import MoreComments\n",
        "from google.colab import files"
      ],
      "metadata": {
        "id": "rY2XrzZV3Jwy"
      },
      "execution_count": 6,
      "outputs": []
    },
    {
      "cell_type": "code",
      "source": [
        "# input: list[], containning subReddit names for us to crawl\n",
        "# output: file, a txt file with comments, replies, and mainbody of a post\n",
        "# uncomment the post frames to get a dataframe version of the result with other features \n",
        "def crawIvy(subRedditName):\n",
        "  print(subRedditName)\n",
        "  with open(subRedditName+'.txt', 'w') as fid: # 'w' creates a new file\n",
        "\n",
        "    reddit = praw.Reddit(user_agent=\"Comment Extraction (by /u/Ling72)\",\n",
        "                        client_id=\"sqzgNEdMPUicp3JyeIQR9Q\", client_secret=\"cwkNNuqpaovjAuBu70FUvigEMqjRWw\", check_for_async=False)\n",
        "    hot_posts = reddit.subreddit(subRedditName)\n",
        "    # choosing top20\n",
        "    for post in hot_posts.hot(limit=100):\n",
        "          try:\n",
        "            url = post.url\n",
        "            submission = reddit.submission(url=url)\n",
        "            submission.comments.replace_more(limit=0)\n",
        "            # comments = {}\n",
        "            fid.write(post.title+'\\n')  \n",
        "            fid.write(post.selftext+'\\n')\n",
        "            # go through comments and replies\n",
        "            for top_level_comment in submission.comments.list():\n",
        "              replies = []\n",
        "              top_level_comment.replies.replace_more(limit=0)\n",
        "              for reply in top_level_comment.replies.list():\n",
        "                fid.write(reply.body+'\\n')\n",
        "              # If we want to track which comment it is from but now we only need the text\n",
        "              fid.write(top_level_comment.body+'\\n')\n",
        "              # comments[top_level_comment.body] = replies\n",
        "            # posts.append([post.subreddit.display_name, post.title, post.score, post.id, post.subreddit, post.url, post.num_comments, post.upvote_ratio, post.selftext, post.created, comments])\n",
        "          \n",
        "          # error catching\n",
        "          except prawcore.exceptions.NotFound:\n",
        "            print(submission.id, \"Not Found Error\")\n",
        "          except praw.exceptions.InvalidURL:\n",
        "            print(url, \"Invalid URL\")\n",
        "          except prawcore.Forbidden:\n",
        "            print(f\"We\\'ve been banned on r/{post.subreddit}!\")\n",
        "    fid.close()\n",
        "  files.download(subRedditName+'.txt')\n"
      ],
      "metadata": {
        "id": "XyH--koGcapp"
      },
      "execution_count": 7,
      "outputs": []
    },
    {
      "cell_type": "code",
      "source": [
        "\n",
        "subreddits = ['dartmouth', 'princeton','BrownU', 'cornell', 'Harvard', 'columbia', 'yale', 'UPenn']\n",
        "\n",
        "\n",
        "def mainCrawler(subreddits):\n",
        "  for school in subreddits:\n",
        "    crawIvy(school)\n",
        "    # uncomment this to have dataframe/csv version of the code\n",
        "    # posts = pd.DataFrame(schoolPosts,columns=['school','title', 'score', 'id', 'subreddit', 'url', 'num_comments', 'upvote ratio','body', 'created', 'comments and replies' ])\n",
        "    # posts.to_csv(school+'.csv', encoding = 'utf-8-sig') \n",
        "    # files.download(school+'.csv')\n",
        "  # return posts\n",
        "\n",
        "mainCrawler(subreddits)"
      ],
      "metadata": {
        "colab": {
          "base_uri": "https://localhost:8080/",
          "height": 972
        },
        "id": "7PoZnS3yzKrG",
        "outputId": "c2cac9d9-ae2b-4bc7-ec51-cf5653add12e"
      },
      "execution_count": 8,
      "outputs": [
        {
          "output_type": "stream",
          "name": "stdout",
          "text": [
            "dartmouth\n"
          ]
        },
        {
          "output_type": "display_data",
          "data": {
            "text/plain": [
              "<IPython.core.display.Javascript object>"
            ],
            "application/javascript": [
              "\n",
              "    async function download(id, filename, size) {\n",
              "      if (!google.colab.kernel.accessAllowed) {\n",
              "        return;\n",
              "      }\n",
              "      const div = document.createElement('div');\n",
              "      const label = document.createElement('label');\n",
              "      label.textContent = `Downloading \"${filename}\": `;\n",
              "      div.appendChild(label);\n",
              "      const progress = document.createElement('progress');\n",
              "      progress.max = size;\n",
              "      div.appendChild(progress);\n",
              "      document.body.appendChild(div);\n",
              "\n",
              "      const buffers = [];\n",
              "      let downloaded = 0;\n",
              "\n",
              "      const channel = await google.colab.kernel.comms.open(id);\n",
              "      // Send a message to notify the kernel that we're ready.\n",
              "      channel.send({})\n",
              "\n",
              "      for await (const message of channel.messages) {\n",
              "        // Send a message to notify the kernel that we're ready.\n",
              "        channel.send({})\n",
              "        if (message.buffers) {\n",
              "          for (const buffer of message.buffers) {\n",
              "            buffers.push(buffer);\n",
              "            downloaded += buffer.byteLength;\n",
              "            progress.value = downloaded;\n",
              "          }\n",
              "        }\n",
              "      }\n",
              "      const blob = new Blob(buffers, {type: 'application/binary'});\n",
              "      const a = document.createElement('a');\n",
              "      a.href = window.URL.createObjectURL(blob);\n",
              "      a.download = filename;\n",
              "      div.appendChild(a);\n",
              "      a.click();\n",
              "      div.remove();\n",
              "    }\n",
              "  "
            ]
          },
          "metadata": {}
        },
        {
          "output_type": "display_data",
          "data": {
            "text/plain": [
              "<IPython.core.display.Javascript object>"
            ],
            "application/javascript": [
              "download(\"download_6ec07b02-075c-42f6-a637-2c57a9e0cca5\", \"dartmouth.txt\", 206189)"
            ]
          },
          "metadata": {}
        },
        {
          "output_type": "stream",
          "name": "stdout",
          "text": [
            "princeton\n",
            "https://i.redd.it/pqur7sr359091.png Invalid URL\n",
            "https://www.princeton.edu/news/2022/05/11/major-gift-jaimie-and-james-yeh-87-names-residential-college-and-supports?utm_campaign=communications&utm_content=1652282181&utm_medium=social&utm_source=facebook&fbclid=IwAR0hZSfX55VhD3Ai3DU44p6BW3-dTopr9s-gz9Wv5GwhaitmeKKRA9R16rM Invalid URL\n",
            "93VpZHNZ6Zo Not Found Error\n",
            "We've been banned on r/princeton!\n",
            "/r/newjersey/comments/uev61s/we_are_building_a_technology_social_community_in/ Invalid URL\n",
            "https://www.princeton.edu/news/2022/04/25/faculty-approve-academic-minors-princeton Invalid URL\n",
            "https://i.redd.it/jh5u0pd9l9v81.jpg Invalid URL\n"
          ]
        },
        {
          "output_type": "display_data",
          "data": {
            "text/plain": [
              "<IPython.core.display.Javascript object>"
            ],
            "application/javascript": [
              "\n",
              "    async function download(id, filename, size) {\n",
              "      if (!google.colab.kernel.accessAllowed) {\n",
              "        return;\n",
              "      }\n",
              "      const div = document.createElement('div');\n",
              "      const label = document.createElement('label');\n",
              "      label.textContent = `Downloading \"${filename}\": `;\n",
              "      div.appendChild(label);\n",
              "      const progress = document.createElement('progress');\n",
              "      progress.max = size;\n",
              "      div.appendChild(progress);\n",
              "      document.body.appendChild(div);\n",
              "\n",
              "      const buffers = [];\n",
              "      let downloaded = 0;\n",
              "\n",
              "      const channel = await google.colab.kernel.comms.open(id);\n",
              "      // Send a message to notify the kernel that we're ready.\n",
              "      channel.send({})\n",
              "\n",
              "      for await (const message of channel.messages) {\n",
              "        // Send a message to notify the kernel that we're ready.\n",
              "        channel.send({})\n",
              "        if (message.buffers) {\n",
              "          for (const buffer of message.buffers) {\n",
              "            buffers.push(buffer);\n",
              "            downloaded += buffer.byteLength;\n",
              "            progress.value = downloaded;\n",
              "          }\n",
              "        }\n",
              "      }\n",
              "      const blob = new Blob(buffers, {type: 'application/binary'});\n",
              "      const a = document.createElement('a');\n",
              "      a.href = window.URL.createObjectURL(blob);\n",
              "      a.download = filename;\n",
              "      div.appendChild(a);\n",
              "      a.click();\n",
              "      div.remove();\n",
              "    }\n",
              "  "
            ]
          },
          "metadata": {}
        },
        {
          "output_type": "display_data",
          "data": {
            "text/plain": [
              "<IPython.core.display.Javascript object>"
            ],
            "application/javascript": [
              "download(\"download_13870658-a171-4b8e-80fa-5c5687816aec\", \"princeton.txt\", 231529)"
            ]
          },
          "metadata": {}
        },
        {
          "output_type": "stream",
          "name": "stdout",
          "text": [
            "BrownU\n",
            "https://i.redd.it/bnd29xll8p391.png Invalid URL\n",
            "https://i.redd.it/ayp27ymsgp391.jpg Invalid URL\n",
            "https://i.redd.it/ztj4itlpge391.jpg Invalid URL\n",
            "https://i.redd.it/a57cxp7ec8391.png Invalid URL\n",
            "https://i.redd.it/nskwa4vqijz81.jpg Invalid URL\n",
            "https://i.redd.it/0o7iuqol2cx81.png Invalid URL\n",
            "https://i.redd.it/frlltsirycx81.png Invalid URL\n"
          ]
        },
        {
          "output_type": "display_data",
          "data": {
            "text/plain": [
              "<IPython.core.display.Javascript object>"
            ],
            "application/javascript": [
              "\n",
              "    async function download(id, filename, size) {\n",
              "      if (!google.colab.kernel.accessAllowed) {\n",
              "        return;\n",
              "      }\n",
              "      const div = document.createElement('div');\n",
              "      const label = document.createElement('label');\n",
              "      label.textContent = `Downloading \"${filename}\": `;\n",
              "      div.appendChild(label);\n",
              "      const progress = document.createElement('progress');\n",
              "      progress.max = size;\n",
              "      div.appendChild(progress);\n",
              "      document.body.appendChild(div);\n",
              "\n",
              "      const buffers = [];\n",
              "      let downloaded = 0;\n",
              "\n",
              "      const channel = await google.colab.kernel.comms.open(id);\n",
              "      // Send a message to notify the kernel that we're ready.\n",
              "      channel.send({})\n",
              "\n",
              "      for await (const message of channel.messages) {\n",
              "        // Send a message to notify the kernel that we're ready.\n",
              "        channel.send({})\n",
              "        if (message.buffers) {\n",
              "          for (const buffer of message.buffers) {\n",
              "            buffers.push(buffer);\n",
              "            downloaded += buffer.byteLength;\n",
              "            progress.value = downloaded;\n",
              "          }\n",
              "        }\n",
              "      }\n",
              "      const blob = new Blob(buffers, {type: 'application/binary'});\n",
              "      const a = document.createElement('a');\n",
              "      a.href = window.URL.createObjectURL(blob);\n",
              "      a.download = filename;\n",
              "      div.appendChild(a);\n",
              "      a.click();\n",
              "      div.remove();\n",
              "    }\n",
              "  "
            ]
          },
          "metadata": {}
        },
        {
          "output_type": "display_data",
          "data": {
            "text/plain": [
              "<IPython.core.display.Javascript object>"
            ],
            "application/javascript": [
              "download(\"download_94b65d99-f934-49f2-afde-410f9131f7e4\", \"BrownU.txt\", 175919)"
            ]
          },
          "metadata": {}
        },
        {
          "output_type": "stream",
          "name": "stdout",
          "text": [
            "cornell\n",
            "https://i.redd.it/m7qwnay0g2491.jpg Invalid URL\n",
            "https://i.redd.it/ry68riury2491.jpg Invalid URL\n",
            "https://i.redd.it/kk61cso0v2491.jpg Invalid URL\n",
            "https://i.redd.it/4xd5rccxyw391.jpg Invalid URL\n",
            "http://ithacareggaefest.com Invalid URL\n",
            "mzymkqp9oq391 Not Found Error\n",
            "https://ithacavoice.com/2022/06/car-crashes-into-purity-ice-cream-building-early-sunday-morning/ Invalid URL\n",
            "https://www.bloomberg.com/news/articles/2022-06-04/starbucks-illegally-closing-n-y-cafe-to-retaliate-union-claims Invalid URL\n",
            "https://www.foxbusiness.com/markets/starbucks-closing-ny-cafe-union-calls-retaliation-report Invalid URL\n",
            "https://www.businessinsider.com/starbucks-store-closure-in-new-york-retaliation-against-union-2022-6 Invalid URL\n",
            "https://i.redd.it/yu6k4abyzh391.jpg Invalid URL\n",
            "https://i.redd.it/cqepzn7fdf391.jpg Invalid URL\n",
            "https://i.redd.it/797nkg94oe391.jpg Invalid URL\n"
          ]
        },
        {
          "output_type": "display_data",
          "data": {
            "text/plain": [
              "<IPython.core.display.Javascript object>"
            ],
            "application/javascript": [
              "\n",
              "    async function download(id, filename, size) {\n",
              "      if (!google.colab.kernel.accessAllowed) {\n",
              "        return;\n",
              "      }\n",
              "      const div = document.createElement('div');\n",
              "      const label = document.createElement('label');\n",
              "      label.textContent = `Downloading \"${filename}\": `;\n",
              "      div.appendChild(label);\n",
              "      const progress = document.createElement('progress');\n",
              "      progress.max = size;\n",
              "      div.appendChild(progress);\n",
              "      document.body.appendChild(div);\n",
              "\n",
              "      const buffers = [];\n",
              "      let downloaded = 0;\n",
              "\n",
              "      const channel = await google.colab.kernel.comms.open(id);\n",
              "      // Send a message to notify the kernel that we're ready.\n",
              "      channel.send({})\n",
              "\n",
              "      for await (const message of channel.messages) {\n",
              "        // Send a message to notify the kernel that we're ready.\n",
              "        channel.send({})\n",
              "        if (message.buffers) {\n",
              "          for (const buffer of message.buffers) {\n",
              "            buffers.push(buffer);\n",
              "            downloaded += buffer.byteLength;\n",
              "            progress.value = downloaded;\n",
              "          }\n",
              "        }\n",
              "      }\n",
              "      const blob = new Blob(buffers, {type: 'application/binary'});\n",
              "      const a = document.createElement('a');\n",
              "      a.href = window.URL.createObjectURL(blob);\n",
              "      a.download = filename;\n",
              "      div.appendChild(a);\n",
              "      a.click();\n",
              "      div.remove();\n",
              "    }\n",
              "  "
            ]
          },
          "metadata": {}
        },
        {
          "output_type": "display_data",
          "data": {
            "text/plain": [
              "<IPython.core.display.Javascript object>"
            ],
            "application/javascript": [
              "download(\"download_98a0c1dc-86c8-492e-a1db-de4bae24ab9f\", \"cornell.txt\", 527298)"
            ]
          },
          "metadata": {}
        },
        {
          "output_type": "stream",
          "name": "stdout",
          "text": [
            "Harvard\n",
            "xOg7FJBBbJc Not Found Error\n",
            "https://i.redd.it/xzjuwp7u29291.png Invalid URL\n",
            "XnIW2yXYPdM Not Found Error\n",
            "https://www.thecrimson.com/article/2022/5/4/fas-shopping-week-vote/ Invalid URL\n",
            "https://i.redd.it/iq48zru69bx81.jpg Invalid URL\n",
            "https://i.imgur.com/9A7eyQb.jpg Invalid URL\n"
          ]
        },
        {
          "output_type": "display_data",
          "data": {
            "text/plain": [
              "<IPython.core.display.Javascript object>"
            ],
            "application/javascript": [
              "\n",
              "    async function download(id, filename, size) {\n",
              "      if (!google.colab.kernel.accessAllowed) {\n",
              "        return;\n",
              "      }\n",
              "      const div = document.createElement('div');\n",
              "      const label = document.createElement('label');\n",
              "      label.textContent = `Downloading \"${filename}\": `;\n",
              "      div.appendChild(label);\n",
              "      const progress = document.createElement('progress');\n",
              "      progress.max = size;\n",
              "      div.appendChild(progress);\n",
              "      document.body.appendChild(div);\n",
              "\n",
              "      const buffers = [];\n",
              "      let downloaded = 0;\n",
              "\n",
              "      const channel = await google.colab.kernel.comms.open(id);\n",
              "      // Send a message to notify the kernel that we're ready.\n",
              "      channel.send({})\n",
              "\n",
              "      for await (const message of channel.messages) {\n",
              "        // Send a message to notify the kernel that we're ready.\n",
              "        channel.send({})\n",
              "        if (message.buffers) {\n",
              "          for (const buffer of message.buffers) {\n",
              "            buffers.push(buffer);\n",
              "            downloaded += buffer.byteLength;\n",
              "            progress.value = downloaded;\n",
              "          }\n",
              "        }\n",
              "      }\n",
              "      const blob = new Blob(buffers, {type: 'application/binary'});\n",
              "      const a = document.createElement('a');\n",
              "      a.href = window.URL.createObjectURL(blob);\n",
              "      a.download = filename;\n",
              "      div.appendChild(a);\n",
              "      a.click();\n",
              "      div.remove();\n",
              "    }\n",
              "  "
            ]
          },
          "metadata": {}
        },
        {
          "output_type": "display_data",
          "data": {
            "text/plain": [
              "<IPython.core.display.Javascript object>"
            ],
            "application/javascript": [
              "download(\"download_3525a97c-cf21-4da0-8bf1-f4596803c8cb\", \"Harvard.txt\", 237517)"
            ]
          },
          "metadata": {}
        },
        {
          "output_type": "stream",
          "name": "stdout",
          "text": [
            "columbia\n",
            "/r/premed/comments/v5miq9/free_premed_mentorship_opportunity/ Invalid URL\n",
            "https://www.thecollegefix.com/columbia-university-axes-doctor-who-inflated-covid-credentials-from-event/ Invalid URL\n",
            "/r/nyc/comments/v2m575/free_onwater_boating_course_out_of_manhattan/ Invalid URL\n",
            "https://i.redd.it/bkieihfp4b291.jpg Invalid URL\n"
          ]
        },
        {
          "output_type": "display_data",
          "data": {
            "text/plain": [
              "<IPython.core.display.Javascript object>"
            ],
            "application/javascript": [
              "\n",
              "    async function download(id, filename, size) {\n",
              "      if (!google.colab.kernel.accessAllowed) {\n",
              "        return;\n",
              "      }\n",
              "      const div = document.createElement('div');\n",
              "      const label = document.createElement('label');\n",
              "      label.textContent = `Downloading \"${filename}\": `;\n",
              "      div.appendChild(label);\n",
              "      const progress = document.createElement('progress');\n",
              "      progress.max = size;\n",
              "      div.appendChild(progress);\n",
              "      document.body.appendChild(div);\n",
              "\n",
              "      const buffers = [];\n",
              "      let downloaded = 0;\n",
              "\n",
              "      const channel = await google.colab.kernel.comms.open(id);\n",
              "      // Send a message to notify the kernel that we're ready.\n",
              "      channel.send({})\n",
              "\n",
              "      for await (const message of channel.messages) {\n",
              "        // Send a message to notify the kernel that we're ready.\n",
              "        channel.send({})\n",
              "        if (message.buffers) {\n",
              "          for (const buffer of message.buffers) {\n",
              "            buffers.push(buffer);\n",
              "            downloaded += buffer.byteLength;\n",
              "            progress.value = downloaded;\n",
              "          }\n",
              "        }\n",
              "      }\n",
              "      const blob = new Blob(buffers, {type: 'application/binary'});\n",
              "      const a = document.createElement('a');\n",
              "      a.href = window.URL.createObjectURL(blob);\n",
              "      a.download = filename;\n",
              "      div.appendChild(a);\n",
              "      a.click();\n",
              "      div.remove();\n",
              "    }\n",
              "  "
            ]
          },
          "metadata": {}
        },
        {
          "output_type": "display_data",
          "data": {
            "text/plain": [
              "<IPython.core.display.Javascript object>"
            ],
            "application/javascript": [
              "download(\"download_3406d402-b664-4552-a39e-1923c8178bb4\", \"columbia.txt\", 272659)"
            ]
          },
          "metadata": {}
        },
        {
          "output_type": "stream",
          "name": "stdout",
          "text": [
            "yale\n",
            "https://news.yale.edu/2022/05/25/pericles-lewis-named-dean-yale-college Invalid URL\n",
            "https://www.yahoo.com/finance/m/71558423-91b1-38f0-9a34-8e09c45f705e/former-yale-administrator.html Invalid URL\n",
            "https://yaledailynews.com/blog/2022/04/26/marvin-chun-first-asian-american-dean-of-yale-college-reflects-on-term/ Invalid URL\n",
            "https://i.redd.it/x1vlhamhilt81.jpg Invalid URL\n",
            "https://www.thecollegefix.com/u-s-government-seizes-1-29-million-in-art-from-yale-gallery/ Invalid URL\n"
          ]
        },
        {
          "output_type": "display_data",
          "data": {
            "text/plain": [
              "<IPython.core.display.Javascript object>"
            ],
            "application/javascript": [
              "\n",
              "    async function download(id, filename, size) {\n",
              "      if (!google.colab.kernel.accessAllowed) {\n",
              "        return;\n",
              "      }\n",
              "      const div = document.createElement('div');\n",
              "      const label = document.createElement('label');\n",
              "      label.textContent = `Downloading \"${filename}\": `;\n",
              "      div.appendChild(label);\n",
              "      const progress = document.createElement('progress');\n",
              "      progress.max = size;\n",
              "      div.appendChild(progress);\n",
              "      document.body.appendChild(div);\n",
              "\n",
              "      const buffers = [];\n",
              "      let downloaded = 0;\n",
              "\n",
              "      const channel = await google.colab.kernel.comms.open(id);\n",
              "      // Send a message to notify the kernel that we're ready.\n",
              "      channel.send({})\n",
              "\n",
              "      for await (const message of channel.messages) {\n",
              "        // Send a message to notify the kernel that we're ready.\n",
              "        channel.send({})\n",
              "        if (message.buffers) {\n",
              "          for (const buffer of message.buffers) {\n",
              "            buffers.push(buffer);\n",
              "            downloaded += buffer.byteLength;\n",
              "            progress.value = downloaded;\n",
              "          }\n",
              "        }\n",
              "      }\n",
              "      const blob = new Blob(buffers, {type: 'application/binary'});\n",
              "      const a = document.createElement('a');\n",
              "      a.href = window.URL.createObjectURL(blob);\n",
              "      a.download = filename;\n",
              "      div.appendChild(a);\n",
              "      a.click();\n",
              "      div.remove();\n",
              "    }\n",
              "  "
            ]
          },
          "metadata": {}
        },
        {
          "output_type": "display_data",
          "data": {
            "text/plain": [
              "<IPython.core.display.Javascript object>"
            ],
            "application/javascript": [
              "download(\"download_9cb7986c-ddcb-4139-be17-5ef4b06de0c6\", \"yale.txt\", 305293)"
            ]
          },
          "metadata": {}
        },
        {
          "output_type": "stream",
          "name": "stdout",
          "text": [
            "UPenn\n",
            "https://youtu.be/J4x1PO4q-Mo Invalid URL\n",
            "rowbottom Not Found Error\n"
          ]
        },
        {
          "output_type": "display_data",
          "data": {
            "text/plain": [
              "<IPython.core.display.Javascript object>"
            ],
            "application/javascript": [
              "\n",
              "    async function download(id, filename, size) {\n",
              "      if (!google.colab.kernel.accessAllowed) {\n",
              "        return;\n",
              "      }\n",
              "      const div = document.createElement('div');\n",
              "      const label = document.createElement('label');\n",
              "      label.textContent = `Downloading \"${filename}\": `;\n",
              "      div.appendChild(label);\n",
              "      const progress = document.createElement('progress');\n",
              "      progress.max = size;\n",
              "      div.appendChild(progress);\n",
              "      document.body.appendChild(div);\n",
              "\n",
              "      const buffers = [];\n",
              "      let downloaded = 0;\n",
              "\n",
              "      const channel = await google.colab.kernel.comms.open(id);\n",
              "      // Send a message to notify the kernel that we're ready.\n",
              "      channel.send({})\n",
              "\n",
              "      for await (const message of channel.messages) {\n",
              "        // Send a message to notify the kernel that we're ready.\n",
              "        channel.send({})\n",
              "        if (message.buffers) {\n",
              "          for (const buffer of message.buffers) {\n",
              "            buffers.push(buffer);\n",
              "            downloaded += buffer.byteLength;\n",
              "            progress.value = downloaded;\n",
              "          }\n",
              "        }\n",
              "      }\n",
              "      const blob = new Blob(buffers, {type: 'application/binary'});\n",
              "      const a = document.createElement('a');\n",
              "      a.href = window.URL.createObjectURL(blob);\n",
              "      a.download = filename;\n",
              "      div.appendChild(a);\n",
              "      a.click();\n",
              "      div.remove();\n",
              "    }\n",
              "  "
            ]
          },
          "metadata": {}
        },
        {
          "output_type": "display_data",
          "data": {
            "text/plain": [
              "<IPython.core.display.Javascript object>"
            ],
            "application/javascript": [
              "download(\"download_7bf0206d-f094-41bc-96ff-fd77af0ae10b\", \"UPenn.txt\", 218730)"
            ]
          },
          "metadata": {}
        }
      ]
    },
    {
      "cell_type": "code",
      "source": [
        ""
      ],
      "metadata": {
        "id": "YJ6vM-XPvvM3"
      },
      "execution_count": 8,
      "outputs": []
    }
  ]
}